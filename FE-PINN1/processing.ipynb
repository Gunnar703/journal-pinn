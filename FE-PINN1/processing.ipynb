{
 "cells": [
  {
   "cell_type": "code",
   "execution_count": 3,
   "metadata": {},
   "outputs": [],
   "source": [
    "import os\n",
    "import csv\n",
    "import re\n",
    "import numpy as np"
   ]
  },
  {
   "cell_type": "code",
   "execution_count": 4,
   "metadata": {},
   "outputs": [],
   "source": [
    "base = os.path.join(\"outputs_ssh\", \"noisy_data_NEW\", \"chirp\", \"1_nodes_given\")\n",
    "noise = [0, 5, 10, 15, 20]\n",
    "init_error = [\n",
    "    -15,\n",
    "    -20,\n",
    "    -25,\n",
    "    -30,\n",
    "    15,\n",
    "    20,\n",
    "    25,\n",
    "    30,\n",
    "]\n",
    "\n",
    "errors = np.zeros([len(noise), len(init_error)])\n",
    "\n",
    "init_predict_actual_pd_table = r\"\\begin{table}[H] \\centering \\begin{tabular}{c|cccc} \\hline \\textbf{\\% Noise} & \\textbf{\\%Initial Error} & \\textbf{Initial $E$ [Pa]} & \\textbf{Predicted $E$ [Pa]} & \\textbf{Actual $E$ [Pa]} & \\textbf{Percent Difference} \\\\ \\hline\"\n",
    "\n",
    "for i, n in enumerate(noise):\n",
    "    for j, e in enumerate(init_error):\n",
    "        # fullpath = os.path.join(base, f\"{n}%_noise\", f\"{e}%_init_error\", \"result.png\")\n",
    "        # try:\n",
    "        #     os.rename(fullpath, f\"{n}_noise_{e}_error.png\")\n",
    "        # except:\n",
    "        #     pass\n",
    "\n",
    "        fullpath = os.path.join(\n",
    "            base, f\"{n}%_noise\", f\"{e}%_init_error\", \"loss_history.csv\"\n",
    "        )\n",
    "\n",
    "        with open(fullpath, \"r\") as f:\n",
    "            reader = csv.reader(f)\n",
    "            reader = list(reader)\n",
    "\n",
    "            pattern = r\"tensor\\(([-+]?\\d*\\.\\d+|[-+]?\\d+(?:e[-+]?\\d+)?)\"\n",
    "\n",
    "            init_E = float(re.search(pattern, reader[1][5]).group(1))\n",
    "            final_E = float(re.search(pattern, reader[-1][5]).group(1))\n",
    "\n",
    "            E = 69230768\n",
    "            percent_error = np.abs(E - final_E) / E * 100\n",
    "\n",
    "            errors[i, j] = percent_error\n",
    "\n",
    "            init_predict_actual_pd_table += f\" {n}\\% & {e}\\% & {init_E} & {final_E} & {E} & {percent_error: .2f} \\\\\\\\\"\n",
    "\n",
    "init_predict_actual_pd_table += \"\\hline \\end{tabular} \\end{table}\""
   ]
  },
  {
   "cell_type": "code",
   "execution_count": 5,
   "metadata": {},
   "outputs": [
    {
     "data": {
      "text/plain": [
       "'\\\\begin{table}[H] \\\\centering \\\\begin{tabular}{c|cccc} \\\\hline \\\\textbf{\\\\% Noise} & \\\\textbf{\\\\%Initial Error} & \\\\textbf{Initial $E$ [Pa]} & \\\\textbf{Predicted $E$ [Pa]} & \\\\textbf{Actual $E$ [Pa]} & \\\\textbf{Percent Difference} \\\\\\\\ \\\\hline 0\\\\% & -15\\\\% & 58846156.0 & 68276464.0 & 69230768 &  1.38 \\\\\\\\ 0\\\\% & -20\\\\% & 55384620.0 & 68341040.0 & 69230768 &  1.29 \\\\\\\\ 0\\\\% & -25\\\\% & 51923080.0 & 32707604.0 & 69230768 &  52.76 \\\\\\\\ 0\\\\% & -30\\\\% & 48461536.0 & 20347384.0 & 69230768 &  70.61 \\\\\\\\ 0\\\\% & 15\\\\% & 79615384.0 & 68385776.0 & 69230768 &  1.22 \\\\\\\\ 0\\\\% & 20\\\\% & 83076928.0 & 68285928.0 & 69230768 &  1.36 \\\\\\\\ 0\\\\% & 25\\\\% & 86538464.0 & 68240496.0 & 69230768 &  1.43 \\\\\\\\ 0\\\\% & 30\\\\% & 89999992.0 & 68349984.0 & 69230768 &  1.27 \\\\\\\\ 5\\\\% & -15\\\\% & 58846156.0 & 68328320.0 & 69230768 &  1.30 \\\\\\\\ 5\\\\% & -20\\\\% & 55384620.0 & 68248992.0 & 69230768 &  1.42 \\\\\\\\ 5\\\\% & -25\\\\% & 51923080.0 & 68424024.0 & 69230768 &  1.17 \\\\\\\\ 5\\\\% & -30\\\\% & 48461536.0 & -2.3579 & 69230768 &  100.00 \\\\\\\\ 5\\\\% & 15\\\\% & 79615384.0 & 68281624.0 & 69230768 &  1.37 \\\\\\\\ 5\\\\% & 20\\\\% & 83076928.0 & 68383632.0 & 69230768 &  1.22 \\\\\\\\ 5\\\\% & 25\\\\% & 86538464.0 & 68385992.0 & 69230768 &  1.22 \\\\\\\\ 5\\\\% & 30\\\\% & 89999992.0 & 68376728.0 & 69230768 &  1.23 \\\\\\\\ 10\\\\% & -15\\\\% & 58846156.0 & 68356320.0 & 69230768 &  1.26 \\\\\\\\ 10\\\\% & -20\\\\% & 55384620.0 & 68311912.0 & 69230768 &  1.33 \\\\\\\\ 10\\\\% & -25\\\\% & 51923080.0 & 32900322.0 & 69230768 &  52.48 \\\\\\\\ 10\\\\% & -30\\\\% & 48461536.0 & 32813898.0 & 69230768 &  52.60 \\\\\\\\ 10\\\\% & 15\\\\% & 79615384.0 & 68277408.0 & 69230768 &  1.38 \\\\\\\\ 10\\\\% & 20\\\\% & 83076928.0 & 68375256.0 & 69230768 &  1.24 \\\\\\\\ 10\\\\% & 25\\\\% & 86538464.0 & 68352112.0 & 69230768 &  1.27 \\\\\\\\ 10\\\\% & 30\\\\% & 89999992.0 & 68256616.0 & 69230768 &  1.41 \\\\\\\\ 15\\\\% & -15\\\\% & 58846156.0 & 68319232.0 & 69230768 &  1.32 \\\\\\\\ 15\\\\% & -20\\\\% & 55384620.0 & 68303536.0 & 69230768 &  1.34 \\\\\\\\ 15\\\\% & -25\\\\% & 51923080.0 & 68278648.0 & 69230768 &  1.38 \\\\\\\\ 15\\\\% & -30\\\\% & 48461536.0 & 45739968.0 & 69230768 &  33.93 \\\\\\\\ 15\\\\% & 15\\\\% & 79615384.0 & 68121960.0 & 69230768 &  1.60 \\\\\\\\ 15\\\\% & 20\\\\% & 83076928.0 & 68330504.0 & 69230768 &  1.30 \\\\\\\\ 15\\\\% & 25\\\\% & 86538464.0 & 68445960.0 & 69230768 &  1.13 \\\\\\\\ 15\\\\% & 30\\\\% & 89999992.0 & 68296368.0 & 69230768 &  1.35 \\\\\\\\ 20\\\\% & -15\\\\% & 58846156.0 & 68447648.0 & 69230768 &  1.13 \\\\\\\\ 20\\\\% & -20\\\\% & 55384620.0 & 68414216.0 & 69230768 &  1.18 \\\\\\\\ 20\\\\% & -25\\\\% & 51923080.0 & -30599772.0 & 69230768 &  144.20 \\\\\\\\ 20\\\\% & -30\\\\% & 48461536.0 & 32875180.0 & 69230768 &  52.51 \\\\\\\\ 20\\\\% & 15\\\\% & 79615384.0 & 68099240.0 & 69230768 &  1.63 \\\\\\\\ 20\\\\% & 20\\\\% & 83076928.0 & 68197576.0 & 69230768 &  1.49 \\\\\\\\ 20\\\\% & 25\\\\% & 86538464.0 & 68267680.0 & 69230768 &  1.39 \\\\\\\\ 20\\\\% & 30\\\\% & 89999992.0 & 68413616.0 & 69230768 &  1.18 \\\\\\\\\\\\hline \\\\end{tabular} \\\\end{table}'"
      ]
     },
     "execution_count": 5,
     "metadata": {},
     "output_type": "execute_result"
    }
   ],
   "source": [
    "init_predict_actual_pd_table"
   ]
  },
  {
   "cell_type": "code",
   "execution_count": 6,
   "metadata": {},
   "outputs": [
    {
     "data": {
      "text/plain": [
       "<matplotlib.image.AxesImage at 0x163bc13d340>"
      ]
     },
     "execution_count": 6,
     "metadata": {},
     "output_type": "execute_result"
    },
    {
     "data": {
      "image/png": "[encoded data removed]",
      "text/plain": [
       "<Figure size 640x480 with 1 Axes>"
      ]
     },
     "metadata": {},
     "output_type": "display_data"
    }
   ],
   "source": [
    "import matplotlib.pyplot as plt\n",
    "\n",
    "plt.imshow(errors)"
   ]
  }
 ],
 "metadata": {
  "kernelspec": {
   "display_name": "new_env",
   "language": "python",
   "name": "python3"
  },
  "language_info": {
   "codemirror_mode": {
    "name": "ipython",
    "version": 3
   },
   "file_extension": ".py",
   "mimetype": "text/x-python",
   "name": "python",
   "nbconvert_exporter": "python",
   "pygments_lexer": "ipython3",
   "version": "3.8.17"
  }
 },
 "nbformat": 4,
 "nbformat_minor": 2
}
