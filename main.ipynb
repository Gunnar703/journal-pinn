{
 "cells": [
  {
   "cell_type": "code",
   "execution_count": 1,
   "metadata": {},
   "outputs": [],
   "source": [
    "import os\n",
    "import csv\n",
    "import torch\n",
    "import time as timer\n",
    "import numpy as np\n",
    "import matplotlib.pyplot as plt\n",
    "import torch.nn.functional as F\n",
    "\n",
    "from utils import make_folder\n",
    "from forcing_functions import get_function\n",
    "from siren import EarlyStopper, get_4_dof_model, latin_hypercube_1D, system_ode_loss\n",
    "from finite_element_code import set_up_4_dof, get_mck, integrate_rk4"
   ]
  },
  {
   "cell_type": "markdown",
   "metadata": {},
   "source": [
    "### Set Up PyTorch"
   ]
  },
  {
   "cell_type": "code",
   "execution_count": 2,
   "metadata": {},
   "outputs": [],
   "source": [
    "# Set random seed\n",
    "torch.manual_seed(123)\n",
    "\n",
    "# Set device\n",
    "device = \"cuda\" if torch.cuda.is_available() else \"cpu\""
   ]
  },
  {
   "cell_type": "markdown",
   "metadata": {},
   "source": [
    "### Set Up FE Model"
   ]
  },
  {
   "cell_type": "code",
   "execution_count": 3,
   "metadata": {},
   "outputs": [],
   "source": [
    "time = torch.linspace(0, 4, 400).to(device)\n",
    "\n",
    "# Get model parameters\n",
    "x, y, E, nu, rho, a0, a1, fdim, free_indices, ndim, _ = set_up_4_dof()\n",
    "\n",
    "# Construct mass, damping, and stiffness matrices\n",
    "m, c, k = get_mck(x, y, E, nu, rho, a0, a1, free_indices)\n",
    "\n",
    "# Define forcing functions\n",
    "functions = (\"gaussian\", \"sine\", \"chirp\")\n",
    "\n",
    "# Define datasets - each entry is a list of nodes where data will be given (in addition to ICs)\n",
    "given_data = [\n",
    "    [0, 2, 3],\n",
    "    [2, 3],\n",
    "    [3,],\n",
    "    []\n",
    "]"
   ]
  },
  {
   "cell_type": "markdown",
   "metadata": {},
   "source": [
    "### Set Up PINN"
   ]
  },
  {
   "cell_type": "code",
   "execution_count": 4,
   "metadata": {},
   "outputs": [],
   "source": [
    "ntc = 290  # number of collocation points\n",
    "ntp = int((time[-1] - time[0]) * 500)  # number of physics points\n",
    "tc = torch.linspace(time[0], time[-1], ntc, device=\"cuda\")  # collocation points\n",
    "tp = latin_hypercube_1D(time[0], time[-1], ntp, device=\"cuda\")  # physics points\n",
    "\n",
    "alpha = 1e-14  # physics loss weight\n",
    "\n",
    "learning_rate = 1e-3\n",
    "max_iterations = 20_000\n",
    "iterations_til_summary = 1000  # print summary every 1000 iterations"
   ]
  },
  {
   "cell_type": "markdown",
   "metadata": {},
   "source": [
    "### Test Different Cases"
   ]
  },
  {
   "cell_type": "code",
   "execution_count": 5,
   "metadata": {},
   "outputs": [
    {
     "name": "stdout",
     "output_type": "stream",
     "text": [
      "NOW SOLVING FUNCTION: gaussian\n",
      "GIVEN NODES: [0, 2, 3]\n",
      "torch.cuda.memory_allocated() -> 8549888\n",
      "Iteration 0: L_c = 0.46075 -- L_p = 1.2019e+14\n",
      "Iteration 1000: L_c = 0.11901 -- L_p = 4.1791e+12\n",
      "Iteration 2000: L_c = 0.21624 -- L_p = 3.0245e+12\n",
      "Iteration 3000: L_c = 0.32644 -- L_p = 4.4241e+12\n",
      "Iteration 4000: L_c = 0.18996 -- L_p = 3.4589e+12\n",
      "Iteration 5000: L_c = 0.35232 -- L_p = 3.6368e+12\n",
      "Iteration 6000: L_c = 0.18678 -- L_p = 2.9649e+12\n",
      "Iteration 7000: L_c = 0.40913 -- L_p = 3.0568e+12\n",
      "Iteration 8000: L_c = 0.09905 -- L_p = 2.891e+12\n",
      "Iteration 9000: L_c = 0.09401 -- L_p = 3.537e+12\n",
      "Iteration 10000: L_c = 0.31259 -- L_p = 2.9492e+12\n",
      "Iteration 11000: L_c = 0.42045 -- L_p = 3.6336e+12\n",
      "Iteration 12000: L_c = 0.093306 -- L_p = 3.1692e+12\n",
      "Iteration 13000: L_c = 0.32582 -- L_p = 3.5549e+12\n",
      "Iteration 14000: L_c = 0.35994 -- L_p = 3.1575e+12\n",
      "Iteration 15000: L_c = 0.3776 -- L_p = 3.923e+12\n",
      "Iteration 16000: L_c = 0.15365 -- L_p = 3.2602e+12\n",
      "Iteration 17000: L_c = 0.099563 -- L_p = 2.9847e+12\n",
      "Iteration 18000: L_c = 0.18397 -- L_p = 3.1395e+12\n",
      "Iteration 19000: L_c = 0.32368 -- L_p = 2.897e+12\n",
      "Training completed in 670.96 seconds.\n"
     ]
    },
    {
     "ename": "ValueError",
     "evalue": "x and y must have same first dimension, but have shapes torch.Size([290]) and torch.Size([400])",
     "output_type": "error",
     "traceback": [
      "\u001b[1;31m---------------------------------------------------------------------------\u001b[0m",
      "\u001b[1;31mValueError\u001b[0m                                Traceback (most recent call last)",
      "\u001b[1;32mc:\\Projects\\journal-pinn\\main.ipynb Cell 9\u001b[0m line \u001b[0;36m1\n\u001b[0;32m    <a href='vscode-notebook-cell:/c%3A/Projects/journal-pinn/main.ipynb#X11sZmlsZQ%3D%3D?line=148'>149</a>\u001b[0m     ax[i, \u001b[39m1\u001b[39m]\u001b[39m.\u001b[39mset_title(\u001b[39m\"\u001b[39m\u001b[39mY-Displacement (m)\u001b[39m\u001b[39m\"\u001b[39m)\n\u001b[0;32m    <a href='vscode-notebook-cell:/c%3A/Projects/journal-pinn/main.ipynb#X11sZmlsZQ%3D%3D?line=150'>151</a>\u001b[0m \u001b[39mif\u001b[39;00m i \u001b[39min\u001b[39;00m node_list:\n\u001b[0;32m    <a href='vscode-notebook-cell:/c%3A/Projects/journal-pinn/main.ipynb#X11sZmlsZQ%3D%3D?line=151'>152</a>\u001b[0m     \u001b[39m# Plot given data\u001b[39;00m\n\u001b[1;32m--> <a href='vscode-notebook-cell:/c%3A/Projects/journal-pinn/main.ipynb#X11sZmlsZQ%3D%3D?line=152'>153</a>\u001b[0m     ax[i, \u001b[39m0\u001b[39;49m]\u001b[39m.\u001b[39;49mplot(\n\u001b[0;32m    <a href='vscode-notebook-cell:/c%3A/Projects/journal-pinn/main.ipynb#X11sZmlsZQ%3D%3D?line=153'>154</a>\u001b[0m         tc\u001b[39m.\u001b[39;49mcpu(),\n\u001b[0;32m    <a href='vscode-notebook-cell:/c%3A/Projects/journal-pinn/main.ipynb#X11sZmlsZQ%3D%3D?line=154'>155</a>\u001b[0m         displacements[\u001b[39m2\u001b[39;49m \u001b[39m*\u001b[39;49m i]\u001b[39m.\u001b[39;49mcpu(),\n\u001b[0;32m    <a href='vscode-notebook-cell:/c%3A/Projects/journal-pinn/main.ipynb#X11sZmlsZQ%3D%3D?line=155'>156</a>\u001b[0m         color\u001b[39m=\u001b[39;49m\u001b[39m\"\u001b[39;49m\u001b[39morange\u001b[39;49m\u001b[39m\"\u001b[39;49m,\n\u001b[0;32m    <a href='vscode-notebook-cell:/c%3A/Projects/journal-pinn/main.ipynb#X11sZmlsZQ%3D%3D?line=156'>157</a>\u001b[0m         label\u001b[39m=\u001b[39;49m\u001b[39m\"\u001b[39;49m\u001b[39mData\u001b[39;49m\u001b[39m\"\u001b[39;49m,\n\u001b[0;32m    <a href='vscode-notebook-cell:/c%3A/Projects/journal-pinn/main.ipynb#X11sZmlsZQ%3D%3D?line=157'>158</a>\u001b[0m         marker\u001b[39m=\u001b[39;49m\u001b[39m\"\u001b[39;49m\u001b[39m.\u001b[39;49m\u001b[39m\"\u001b[39;49m,\n\u001b[0;32m    <a href='vscode-notebook-cell:/c%3A/Projects/journal-pinn/main.ipynb#X11sZmlsZQ%3D%3D?line=158'>159</a>\u001b[0m         markersize\u001b[39m=\u001b[39;49m\u001b[39m1\u001b[39;49m,\n\u001b[0;32m    <a href='vscode-notebook-cell:/c%3A/Projects/journal-pinn/main.ipynb#X11sZmlsZQ%3D%3D?line=159'>160</a>\u001b[0m         linestyle\u001b[39m=\u001b[39;49m\u001b[39m\"\u001b[39;49m\u001b[39mNone\u001b[39;49m\u001b[39m\"\u001b[39;49m,\n\u001b[0;32m    <a href='vscode-notebook-cell:/c%3A/Projects/journal-pinn/main.ipynb#X11sZmlsZQ%3D%3D?line=160'>161</a>\u001b[0m     )\n\u001b[0;32m    <a href='vscode-notebook-cell:/c%3A/Projects/journal-pinn/main.ipynb#X11sZmlsZQ%3D%3D?line=161'>162</a>\u001b[0m     ax[i, \u001b[39m1\u001b[39m]\u001b[39m.\u001b[39mplot(\n\u001b[0;32m    <a href='vscode-notebook-cell:/c%3A/Projects/journal-pinn/main.ipynb#X11sZmlsZQ%3D%3D?line=162'>163</a>\u001b[0m         tc\u001b[39m.\u001b[39mcpu(),\n\u001b[0;32m    <a href='vscode-notebook-cell:/c%3A/Projects/journal-pinn/main.ipynb#X11sZmlsZQ%3D%3D?line=163'>164</a>\u001b[0m         displacements[\u001b[39m2\u001b[39m \u001b[39m*\u001b[39m i \u001b[39m+\u001b[39m \u001b[39m1\u001b[39m]\u001b[39m.\u001b[39mcpu(),\n\u001b[1;32m   (...)\u001b[0m\n\u001b[0;32m    <a href='vscode-notebook-cell:/c%3A/Projects/journal-pinn/main.ipynb#X11sZmlsZQ%3D%3D?line=168'>169</a>\u001b[0m         linestyle\u001b[39m=\u001b[39m\u001b[39m\"\u001b[39m\u001b[39mNone\u001b[39m\u001b[39m\"\u001b[39m,\n\u001b[0;32m    <a href='vscode-notebook-cell:/c%3A/Projects/journal-pinn/main.ipynb#X11sZmlsZQ%3D%3D?line=169'>170</a>\u001b[0m     )\n\u001b[0;32m    <a href='vscode-notebook-cell:/c%3A/Projects/journal-pinn/main.ipynb#X11sZmlsZQ%3D%3D?line=171'>172</a>\u001b[0m \u001b[39m# Legend\u001b[39;00m\n",
      "File \u001b[1;32mc:\\Users\\aglor\\anaconda3\\envs\\new_env\\lib\\site-packages\\matplotlib\\axes\\_axes.py:1688\u001b[0m, in \u001b[0;36mAxes.plot\u001b[1;34m(self, scalex, scaley, data, *args, **kwargs)\u001b[0m\n\u001b[0;32m   1445\u001b[0m \u001b[39m\u001b[39m\u001b[39m\"\"\"\u001b[39;00m\n\u001b[0;32m   1446\u001b[0m \u001b[39mPlot y versus x as lines and/or markers.\u001b[39;00m\n\u001b[0;32m   1447\u001b[0m \n\u001b[1;32m   (...)\u001b[0m\n\u001b[0;32m   1685\u001b[0m \u001b[39m(``'green'``) or hex strings (``'#008000'``).\u001b[39;00m\n\u001b[0;32m   1686\u001b[0m \u001b[39m\"\"\"\u001b[39;00m\n\u001b[0;32m   1687\u001b[0m kwargs \u001b[39m=\u001b[39m cbook\u001b[39m.\u001b[39mnormalize_kwargs(kwargs, mlines\u001b[39m.\u001b[39mLine2D)\n\u001b[1;32m-> 1688\u001b[0m lines \u001b[39m=\u001b[39m [\u001b[39m*\u001b[39m\u001b[39mself\u001b[39m\u001b[39m.\u001b[39m_get_lines(\u001b[39m*\u001b[39margs, data\u001b[39m=\u001b[39mdata, \u001b[39m*\u001b[39m\u001b[39m*\u001b[39mkwargs)]\n\u001b[0;32m   1689\u001b[0m \u001b[39mfor\u001b[39;00m line \u001b[39min\u001b[39;00m lines:\n\u001b[0;32m   1690\u001b[0m     \u001b[39mself\u001b[39m\u001b[39m.\u001b[39madd_line(line)\n",
      "File \u001b[1;32mc:\\Users\\aglor\\anaconda3\\envs\\new_env\\lib\\site-packages\\matplotlib\\axes\\_base.py:311\u001b[0m, in \u001b[0;36m_process_plot_var_args.__call__\u001b[1;34m(self, data, *args, **kwargs)\u001b[0m\n\u001b[0;32m    309\u001b[0m     this \u001b[39m+\u001b[39m\u001b[39m=\u001b[39m args[\u001b[39m0\u001b[39m],\n\u001b[0;32m    310\u001b[0m     args \u001b[39m=\u001b[39m args[\u001b[39m1\u001b[39m:]\n\u001b[1;32m--> 311\u001b[0m \u001b[39myield from\u001b[39;00m \u001b[39mself\u001b[39;49m\u001b[39m.\u001b[39;49m_plot_args(\n\u001b[0;32m    312\u001b[0m     this, kwargs, ambiguous_fmt_datakey\u001b[39m=\u001b[39;49mambiguous_fmt_datakey)\n",
      "File \u001b[1;32mc:\\Users\\aglor\\anaconda3\\envs\\new_env\\lib\\site-packages\\matplotlib\\axes\\_base.py:504\u001b[0m, in \u001b[0;36m_process_plot_var_args._plot_args\u001b[1;34m(self, tup, kwargs, return_kwargs, ambiguous_fmt_datakey)\u001b[0m\n\u001b[0;32m    501\u001b[0m     \u001b[39mself\u001b[39m\u001b[39m.\u001b[39maxes\u001b[39m.\u001b[39myaxis\u001b[39m.\u001b[39mupdate_units(y)\n\u001b[0;32m    503\u001b[0m \u001b[39mif\u001b[39;00m x\u001b[39m.\u001b[39mshape[\u001b[39m0\u001b[39m] \u001b[39m!=\u001b[39m y\u001b[39m.\u001b[39mshape[\u001b[39m0\u001b[39m]:\n\u001b[1;32m--> 504\u001b[0m     \u001b[39mraise\u001b[39;00m \u001b[39mValueError\u001b[39;00m(\u001b[39mf\u001b[39m\u001b[39m\"\u001b[39m\u001b[39mx and y must have same first dimension, but \u001b[39m\u001b[39m\"\u001b[39m\n\u001b[0;32m    505\u001b[0m                      \u001b[39mf\u001b[39m\u001b[39m\"\u001b[39m\u001b[39mhave shapes \u001b[39m\u001b[39m{\u001b[39;00mx\u001b[39m.\u001b[39mshape\u001b[39m}\u001b[39;00m\u001b[39m and \u001b[39m\u001b[39m{\u001b[39;00my\u001b[39m.\u001b[39mshape\u001b[39m}\u001b[39;00m\u001b[39m\"\u001b[39m)\n\u001b[0;32m    506\u001b[0m \u001b[39mif\u001b[39;00m x\u001b[39m.\u001b[39mndim \u001b[39m>\u001b[39m \u001b[39m2\u001b[39m \u001b[39mor\u001b[39;00m y\u001b[39m.\u001b[39mndim \u001b[39m>\u001b[39m \u001b[39m2\u001b[39m:\n\u001b[0;32m    507\u001b[0m     \u001b[39mraise\u001b[39;00m \u001b[39mValueError\u001b[39;00m(\u001b[39mf\u001b[39m\u001b[39m\"\u001b[39m\u001b[39mx and y can be no greater than 2D, but have \u001b[39m\u001b[39m\"\u001b[39m\n\u001b[0;32m    508\u001b[0m                      \u001b[39mf\u001b[39m\u001b[39m\"\u001b[39m\u001b[39mshapes \u001b[39m\u001b[39m{\u001b[39;00mx\u001b[39m.\u001b[39mshape\u001b[39m}\u001b[39;00m\u001b[39m and \u001b[39m\u001b[39m{\u001b[39;00my\u001b[39m.\u001b[39mshape\u001b[39m}\u001b[39;00m\u001b[39m\"\u001b[39m)\n",
      "\u001b[1;31mValueError\u001b[0m: x and y must have same first dimension, but have shapes torch.Size([290]) and torch.Size([400])"
     ]
    },
    {
     "data": {
      "image/png": "[encoded data removed]",
      "text/plain": [
       "<Figure size 1000x500 with 4 Axes>"
      ]
     },
     "metadata": {},
     "output_type": "display_data"
    }
   ],
   "source": [
    "for forcing_function in functions:\n",
    "    # Get forcing function\n",
    "    ffun = get_function(\n",
    "        name=forcing_function,\n",
    "        t0=time[0],\n",
    "        t1=time[-1],\n",
    "        amplitude=-1e3,\n",
    "        total_dimensions=ndim,\n",
    "        force_dimension=fdim,\n",
    "    )\n",
    "\n",
    "    # Integrate to get time-histories\n",
    "    displacements, velocities = integrate_rk4(m, c, k, ffun, time)\n",
    "\n",
    "    # Make folder to store data\n",
    "    force_folder_name = make_folder(name=os.path.join(\"outputs\", forcing_function))\n",
    "\n",
    "    for node_list in given_data:\n",
    "        print(\"NOW SOLVING FUNCTION:\", forcing_function)\n",
    "        print(\"GIVEN NODES:\", node_list)\n",
    "        print(\"torch.cuda.memory_allocated() ->\", torch.cuda.memory_allocated())\n",
    "\n",
    "        # Get start time\n",
    "        start = timer.time()\n",
    "\n",
    "        # Make folder to store data\n",
    "        node_folder_name = make_folder(\n",
    "            os.path.join(force_folder_name, \"%d_nodes_given\" % len(node_list))\n",
    "        )\n",
    "\n",
    "        # Get maximum displacement - used for normalizing outputs. Only consider amplitude of given nodes.\n",
    "        max_displacement = displacements[node_list].max()\n",
    "\n",
    "        # Create PINN\n",
    "        model = get_4_dof_model()\n",
    "\n",
    "        # Instantiate optimizer\n",
    "        optimizer = torch.optim.Adam(\n",
    "            model.parameters(),\n",
    "            lr=learning_rate,\n",
    "        )\n",
    "\n",
    "        # Perform training\n",
    "        csv_filename = os.path.join(node_folder_name, \"loss_history.csv\")\n",
    "        model_save_file = os.path.join(node_folder_name, \"model.pt\")\n",
    "        plot_save_file = os.path.join(node_folder_name, \"result.png\")\n",
    "\n",
    "        with open(csv_filename, \"w\") as csvfile:\n",
    "            writer = csv.writer(csvfile)\n",
    "            writer.writerow(\n",
    "                [\"Epoch\", \"Collocation Loss\", \"Physics Loss\", \"Total Loss\", \"Alpha\"]\n",
    "            )\n",
    "\n",
    "            for step in range(max_iterations):\n",
    "                optimizer.zero_grad()\n",
    "\n",
    "                # Shuffle training data - helps a lot with convergence\n",
    "                shuffle_idx_c = torch.randperm(ntc)\n",
    "                shuffle_idx_p = torch.randperm(ntp)\n",
    "\n",
    "                # Enforce Collocation\n",
    "                model_output, _ = model(tc[shuffle_idx_c].reshape(-1, 1))\n",
    "                target = displacements.T[shuffle_idx_c] / max_displacement\n",
    "                collocation_loss = F.mse_loss(\n",
    "                    model_output[:, node_list], target[:, node_list]\n",
    "                ) + F.mse_loss(\n",
    "                    model_output[0, :], 0 * model_output[0, :]\n",
    "                )\n",
    "\n",
    "                # Enforce Physics\n",
    "                model_output_phys, coords = model(tp[shuffle_idx_p].reshape(-1, 1))\n",
    "                physical_loss = system_ode_loss(\n",
    "                    coords,\n",
    "                    model_output_phys,\n",
    "                    ffun(tp[shuffle_idx_p]),\n",
    "                    m,\n",
    "                    c,\n",
    "                    k,\n",
    "                    max_displacement,\n",
    "                )\n",
    "\n",
    "                # Total loss\n",
    "                loss = collocation_loss + alpha * physical_loss\n",
    "\n",
    "                # Print out an update, save model, + log to file\n",
    "                if step % iterations_til_summary == 0:\n",
    "                    print(\n",
    "                        \"Iteration %d: L_c = %.5g -- L_p = %.5g\"\n",
    "                        % (step, collocation_loss, physical_loss)\n",
    "                    )\n",
    "                    writer.writerow(\n",
    "                        [step, collocation_loss.item(), physical_loss.item(), loss.item(), alpha]\n",
    "                    )\n",
    "                    torch.save(model.state_dict(), model_save_file)\n",
    "\n",
    "                # Backpropagate\n",
    "                loss.backward()\n",
    "\n",
    "                # Update model parameters\n",
    "                optimizer.step()\n",
    "\n",
    "        # Training finished.\n",
    "        end = timer.time()\n",
    "        print(\"Training completed in %.5g seconds.\" % (end - start))\n",
    "\n",
    "        # Make plot of the results\n",
    "        u_pred, _ = model(tc.reshape(-1, 1))\n",
    "\n",
    "        fig, ax = plt.subplots(ndim // 2, 2, sharex=True, sharey=True, figsize=(10, 5))\n",
    "\n",
    "        for i in range(ndim // 2):\n",
    "            # Plot solution\n",
    "            ax[i, 0].plot(\n",
    "                time.cpu(),\n",
    "                displacements[2 * i].cpu(),\n",
    "                color=\"gray\",\n",
    "                alpha=0.4,\n",
    "                label=\"Solution\",\n",
    "            )\n",
    "            ax[i, 1].plot(\n",
    "                time.cpu(),\n",
    "                displacements[2 * i + 1].cpu(),\n",
    "                color=\"gray\",\n",
    "                alpha=0.4,\n",
    "                label=\"Solution\",\n",
    "            )\n",
    "\n",
    "            # Plot model prediction\n",
    "            ax[i, 0].plot(\n",
    "                tc.cpu(),\n",
    "                u_pred.detach()[:, 2 * i].cpu() * max_displacement.cpu(),\n",
    "                color=\"green\",\n",
    "                label=\"Prediction\",\n",
    "            )\n",
    "            ax[i, 1].plot(\n",
    "                tc.cpu(),\n",
    "                u_pred.detach()[:, 2 * i + 1].cpu() * max_displacement.cpu(),\n",
    "                color=\"green\",\n",
    "                label=\"Prediction\",\n",
    "            )\n",
    "\n",
    "            # Format plots\n",
    "            ax[i, 0].set_ylim(displacements.cpu().min(), displacements.cpu().max())\n",
    "            ax[i, 1].set_ylim(displacements.cpu().min(), displacements.cpu().max())\n",
    "            ax[i, 0].set_ylabel(\"Node %d\" % (2 + i))\n",
    "\n",
    "            if i == 0:\n",
    "                ax[i, 0].set_title(\"X-Displacement (m)\")\n",
    "                ax[i, 1].set_title(\"Y-Displacement (m)\")\n",
    "\n",
    "            if i in node_list:\n",
    "                # Plot given data\n",
    "                ax[i, 0].plot(\n",
    "                    time.cpu(),\n",
    "                    displacements[2 * i].cpu(),\n",
    "                    color=\"orange\",\n",
    "                    label=\"Data\",\n",
    "                    marker=\".\",\n",
    "                    markersize=1,\n",
    "                    linestyle=\"None\",\n",
    "                )\n",
    "                ax[i, 1].plot(\n",
    "                    time.cpu(),\n",
    "                    displacements[2 * i + 1].cpu(),\n",
    "                    color=\"orange\",\n",
    "                    label=\"Data\",\n",
    "                    marker=\".\",\n",
    "                    markersize=1,\n",
    "                    linestyle=\"None\",\n",
    "                )\n",
    "\n",
    "            # Legend\n",
    "            if i == 0:\n",
    "                ax[i, 1].legend(loc=\"upper center\", ncols=1, bbox_to_anchor=(1.2, 1))\n",
    "\n",
    "        plt.savefig(plot_save_file)\n",
    "        plt.close()\n",
    "\n",
    "        # Delete all unneeded variables\n",
    "        del (\n",
    "            model,\n",
    "            fig,\n",
    "            ax,\n",
    "            u_pred,\n",
    "            start,\n",
    "            end,\n",
    "            optimizer,\n",
    "            loss,\n",
    "            physical_loss,\n",
    "            collocation_loss,\n",
    "            target,\n",
    "            model_output,\n",
    "            shuffle_idx_c,\n",
    "            shuffle_idx_p,\n",
    "            writer,\n",
    "        )\n",
    "\n",
    "        torch.cuda.empty_cache()"
   ]
  },
  {
   "cell_type": "code",
   "execution_count": 6,
   "metadata": {},
   "outputs": [
    {
     "data": {
      "text/plain": [
       "torch.Size([4, 400])"
      ]
     },
     "execution_count": 6,
     "metadata": {},
     "output_type": "execute_result"
    }
   ],
   "source": [
    "displacements.shape"
   ]
  },
  {
   "cell_type": "code",
   "execution_count": 8,
   "metadata": {},
   "outputs": [
    {
     "data": {
      "text/plain": [
       "torch.Size([400])"
      ]
     },
     "execution_count": 8,
     "metadata": {},
     "output_type": "execute_result"
    }
   ],
   "source": [
    "time.shape"
   ]
  },
  {
   "cell_type": "code",
   "execution_count": null,
   "metadata": {},
   "outputs": [],
   "source": []
  }
 ],
 "metadata": {
  "kernelspec": {
   "display_name": "new_env",
   "language": "python",
   "name": "python3"
  },
  "language_info": {
   "codemirror_mode": {
    "name": "ipython",
    "version": 3
   },
   "file_extension": ".py",
   "mimetype": "text/x-python",
   "name": "python",
   "nbconvert_exporter": "python",
   "pygments_lexer": "ipython3",
   "version": "3.8.17"
  }
 },
 "nbformat": 4,
 "nbformat_minor": 2
}
