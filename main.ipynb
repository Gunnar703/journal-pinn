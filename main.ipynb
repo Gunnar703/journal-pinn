{
 "cells": [
  {
   "cell_type": "code",
   "execution_count": null,
   "metadata": {},
   "outputs": [],
   "source": [
    "import torch\n",
    "\n",
    "from model import run_experiment\n",
    "\n",
    "# Set random seed\n",
    "torch.manual_seed(123)\n",
    "\n",
    "# Set device\n",
    "device = \"cuda\" if torch.cuda.is_available() else \"cpu\""
   ]
  },
  {
   "cell_type": "code",
   "execution_count": null,
   "metadata": {},
   "outputs": [],
   "source": [
    "run_experiment(\n",
    "    functions=[\"chirp\"],\n",
    "    given_data=[[2], [2, 3]],\n",
    "    noise_percent=[0, 5, 10, 15, 20],\n",
    "    initialization_error=[10, 15, 20, 25, 30] + [-10, -15, -20, -25, -30],\n",
    "    run_name=\"noisy_data_NEW\",\n",
    "    device=device,\n",
    "    max_iterations=20_000,\n",
    "    learning_rate=1e-3,\n",
    ")"
   ]
  },
  {
   "cell_type": "code",
   "execution_count": null,
   "metadata": {},
   "outputs": [],
   "source": []
  }
 ],
 "metadata": {
  "kernelspec": {
   "display_name": "new_env",
   "language": "python",
   "name": "python3"
  },
  "language_info": {
   "codemirror_mode": {
    "name": "ipython",
    "version": 3
   },
   "file_extension": ".py",
   "mimetype": "text/x-python",
   "name": "python",
   "nbconvert_exporter": "python",
   "pygments_lexer": "ipython3",
   "version": "3.8.17"
  }
 },
 "nbformat": 4,
 "nbformat_minor": 2
}
