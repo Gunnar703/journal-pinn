{
 "cells": [
  {
   "cell_type": "code",
   "execution_count": 1,
   "metadata": {},
   "outputs": [],
   "source": [
    "import torch\n",
    "\n",
    "from model import run_experiment\n",
    "\n",
    "# Set random seed\n",
    "torch.manual_seed(123)\n",
    "\n",
    "# Set device\n",
    "device = \"cuda\" if torch.cuda.is_available() else \"cpu\""
   ]
  },
  {
   "cell_type": "code",
   "execution_count": 2,
   "metadata": {},
   "outputs": [
    {
     "name": "stdout",
     "output_type": "stream",
     "text": [
      "FUNCTION:    chirp\n",
      "GIVEN NODES: [2]\n",
      "NOISE:       0 %\n",
      "INIT ERROR   20 %\n",
      "torch.cuda.memory_allocated() -> 8549376\n"
     ]
    },
    {
     "name": "stderr",
     "output_type": "stream",
     "text": [
      "Iteration 760: L_c = 0.0091181 -- L_p = 1.3947e+12 -- E = [6.0182e+07]:  10%|▉         | 769/8000 [01:26<13:45,  8.76it/s]"
     ]
    }
   ],
   "source": [
    "run_experiment(\n",
    "    functions=[\"chirp\"],\n",
    "    given_data=[[2]],\n",
    "    noise_percent=[0, 5, 10, 15],\n",
    "    initialization_error=[20, 25],\n",
    "    run_name=\"noisy_data\",\n",
    "    device=device,\n",
    "    max_iterations=8_000,\n",
    ")"
   ]
  },
  {
   "cell_type": "code",
   "execution_count": null,
   "metadata": {},
   "outputs": [],
   "source": []
  }
 ],
 "metadata": {
  "kernelspec": {
   "display_name": "new_env",
   "language": "python",
   "name": "python3"
  },
  "language_info": {
   "codemirror_mode": {
    "name": "ipython",
    "version": 3
   },
   "file_extension": ".py",
   "mimetype": "text/x-python",
   "name": "python",
   "nbconvert_exporter": "python",
   "pygments_lexer": "ipython3",
   "version": "3.8.17"
  }
 },
 "nbformat": 4,
 "nbformat_minor": 2
}
